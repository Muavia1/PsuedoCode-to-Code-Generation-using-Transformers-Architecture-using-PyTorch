{
  "nbformat": 4,
  "nbformat_minor": 0,
  "metadata": {
    "colab": {
      "provenance": [],
      "gpuType": "T4"
    },
    "kernelspec": {
      "name": "python3",
      "display_name": "Python 3"
    },
    "language_info": {
      "name": "python"
    },
    "accelerator": "GPU"
  },
  "cells": [
    {
      "cell_type": "code",
      "source": [
        "import math\n",
        "import random\n",
        "import time\n",
        "import torch\n",
        "import torch.nn as nn\n",
        "import torch.optim as optim\n",
        "import torch.nn.functional as F\n",
        "import pandas as pd\n",
        "from collections import Counter\n",
        "from torch.nn.utils.rnn import pad_sequence\n",
        "from torch.utils.data import DataLoader, Dataset\n",
        "from tqdm import tqdm"
      ],
      "metadata": {
        "id": "2o8xLKQYII-k"
      },
      "execution_count": 1,
      "outputs": []
    },
    {
      "cell_type": "code",
      "source": [
        "class PositionalEncoding(nn.Module):\n",
        "    def __init__(self, d_model, dropout=0.1, max_len=5000):\n",
        "        super().__init__()\n",
        "        self.dropout = nn.Dropout(p=dropout)\n",
        "        pe = torch.zeros(max_len, d_model)\n",
        "        position = torch.arange(0, max_len, dtype=torch.float).unsqueeze(1)\n",
        "        div_term = torch.exp(torch.arange(0, d_model, 2).float() * (-math.log(10000.0)/d_model))\n",
        "        pe[:, 0::2] = torch.sin(position * div_term)\n",
        "        pe[:, 1::2] = torch.cos(position * div_term)\n",
        "        self.register_buffer('pe', pe.unsqueeze(0)) # (1, max_len, d_model)\n",
        "    def forward(self, x):\n",
        "        return self.dropout(x + self.pe[:, :x.size(1)])\n",
        "\n",
        "class Transformer(nn.Module):\n",
        "    def __init__(self, src_vocab_size, tgt_vocab_size, d_model=512, nhead=8,\n",
        "                 num_encoder_layers=6, num_decoder_layers=6, dim_feedforward=2048,\n",
        "                 dropout=0.1):\n",
        "        super().__init__()\n",
        "        self.d_model = d_model\n",
        "        self.src_embedding = nn.Embedding(src_vocab_size, d_model)\n",
        "        self.tgt_embedding = nn.Embedding(tgt_vocab_size, d_model)\n",
        "        self.pos_encoder = PositionalEncoding(d_model, dropout)\n",
        "        self.pos_decoder = PositionalEncoding(d_model, dropout)\n",
        "        self.transformer = nn.Transformer(d_model, nhead, num_encoder_layers, num_decoder_layers,\n",
        "                                          dim_feedforward, dropout)\n",
        "        self.fc_out = nn.Linear(d_model, tgt_vocab_size)\n",
        "    def generate_square_subsequent_mask(self, sz):\n",
        "        mask = (torch.triu(torch.ones(sz, sz)) == 1).transpose(0, 1)\n",
        "        mask = mask.float().masked_fill(mask==0, float('-inf')).masked_fill(mask==1, float(0.0))\n",
        "        return mask\n",
        "    def forward(self, src, tgt):\n",
        "        src_seq_len = src.size(1)\n",
        "        tgt_seq_len = tgt.size(1)\n",
        "        src_emb = self.src_embedding(src) * math.sqrt(self.d_model)\n",
        "        src_emb = self.pos_encoder(src_emb)\n",
        "        tgt_emb = self.tgt_embedding(tgt) * math.sqrt(self.d_model)\n",
        "        tgt_emb = self.pos_decoder(tgt_emb)\n",
        "        src_emb = src_emb.transpose(0, 1)\n",
        "        tgt_emb = tgt_emb.transpose(0, 1)\n",
        "        tgt_mask = self.generate_square_subsequent_mask(tgt_emb.size(0)).to(src.device)\n",
        "        output = self.transformer(src_emb, tgt_emb, tgt_mask=tgt_mask)\n",
        "        output = self.fc_out(output)\n",
        "        return output.transpose(0, 1)"
      ],
      "metadata": {
        "id": "PHP2CohNgEq5"
      },
      "execution_count": 2,
      "outputs": []
    },
    {
      "cell_type": "code",
      "source": [
        "PAD_TOKEN = \"<pad>\"\n",
        "SOS_TOKEN = \"<sos>\"\n",
        "EOS_TOKEN = \"<eos>\"\n",
        "def simple_tokenizer(text):\n",
        "    return text.strip().split()\n",
        "\n",
        "def build_vocab(sentences, min_freq=1):\n",
        "    counts = Counter(token for sentence in sentences for token in sentence)\n",
        "    vocab = {PAD_TOKEN: 0, SOS_TOKEN: 1, EOS_TOKEN: 2}\n",
        "    idx = len(vocab)\n",
        "    for token, count in counts.items():\n",
        "        if count >= min_freq and token not in vocab:\n",
        "            vocab[token] = idx\n",
        "            idx += 1\n",
        "    return vocab\n",
        "def numericalize(sentence, vocab):\n",
        "    return [vocab[SOS_TOKEN]] + [vocab[token] for token in sentence if token in vocab] + [vocab[EOS_TOKEN]]\n",
        "class PrepareDataset(Dataset):\n",
        "    def __init__(self, data, src_vocab=None, tgt_vocab=None, build_vocabs=False):\n",
        "        self.df = data.copy()\n",
        "         # Fill missing values in both columns\n",
        "        self.df[\"text\"] = self.df[\"text\"].fillna(\"\")\n",
        "        self.df[\"code\"] = self.df[\"code\"].fillna(\"\")\n",
        "        self.df[\"src_tokens\"] = self.df[\"text\"].apply(simple_tokenizer)\n",
        "        self.df[\"tgt_tokens\"] = self.df[\"code\"].apply(simple_tokenizer)\n",
        "\n",
        "        if build_vocabs:\n",
        "            self.src_vocab = build_vocab(self.df[\"src_tokens\"].tolist())\n",
        "            self.tgt_vocab = build_vocab(self.df[\"tgt_tokens\"].tolist())\n",
        "        else:\n",
        "            self.src_vocab = src_vocab\n",
        "            self.tgt_vocab = tgt_vocab\n",
        "\n",
        "        self.df[\"src_indices\"] = self.df[\"src_tokens\"].apply(lambda tokens: numericalize(tokens, self.src_vocab))\n",
        "        self.df[\"tgt_indices\"] = self.df[\"tgt_tokens\"].apply(lambda tokens: numericalize(tokens, self.tgt_vocab))\n",
        "        self.data = list(zip(self.df[\"src_indices\"].tolist(), self.df[\"tgt_indices\"].tolist()))\n",
        "\n",
        "    def __len__(self):\n",
        "        return len(self.data)\n",
        "\n",
        "    def __getitem__(self, idx):\n",
        "        return self.data[idx]\n",
        "\n",
        "def collate_fn(batch):\n",
        "    src_batch, tgt_batch = zip(*batch)\n",
        "    src_tensors = [torch.tensor(seq, dtype=torch.long) for seq in src_batch]\n",
        "    tgt_tensors = [torch.tensor(seq, dtype=torch.long) for seq in tgt_batch]\n",
        "    src_padded = pad_sequence(src_tensors, batch_first=True, padding_value=0)\n",
        "    tgt_padded = pad_sequence(tgt_tensors, batch_first=True, padding_value=0)\n",
        "    return src_padded, tgt_padded"
      ],
      "metadata": {
        "id": "hmroAAlPIJwM"
      },
      "execution_count": 3,
      "outputs": []
    },
    {
      "cell_type": "code",
      "source": [
        "dft = pd.read_csv(\"spoc-train-train.tsv\", sep=\"\\t\")\n",
        "dfe = pd.read_csv(\"spoc-train-eval.tsv\", sep=\"\\t\")\n",
        "dfts = pd.read_csv(\"spoc-train-test.tsv\", sep=\"\\t\")\n",
        "\n",
        "first_two_columns_train = dft.iloc[:, :2]\n",
        "first_two_columns_eval = dfe.iloc[:, :2]\n",
        "first_two_columns_test = dfts.iloc[:, :2]\n",
        "print(\"Train Data (first two columns):\")\n",
        "print(first_two_columns_train.head())"
      ],
      "metadata": {
        "colab": {
          "base_uri": "https://localhost:8080/"
        },
        "id": "kPTJfr47ISEh",
        "outputId": "013b8dd6-7fce-4faf-fb8d-8e586d1d53b0"
      },
      "execution_count": 4,
      "outputs": [
        {
          "output_type": "stream",
          "name": "stdout",
          "text": [
            "Train Data (first two columns):\n",
            "                             text                 code\n",
            "0                             NaN         int main() {\n",
            "1                 create string s            string s;\n",
            "2  create integers x1, y1, x2, y2  int x1, y1, x2, y2;\n",
            "3                          read s            cin >> s;\n",
            "4             set x1 to s[0] - 96      x1 = s[0] - 96;\n"
          ]
        }
      ]
    },
    {
      "cell_type": "code",
      "source": [
        "dfts = pd.read_csv(\"spoc-train-test.tsv\", sep=\"\\t\")\n",
        "first_two_columns_test = dfts.iloc[:, :2]\n"
      ],
      "metadata": {
        "id": "K7JEffNqHIbE"
      },
      "execution_count": 5,
      "outputs": []
    },
    {
      "cell_type": "code",
      "source": [
        "first_two_columns_test.head(20)"
      ],
      "metadata": {
        "colab": {
          "base_uri": "https://localhost:8080/",
          "height": 676
        },
        "id": "pZSpYtBzwU1V",
        "outputId": "dd93b597-7143-412c-f224-a29e0192fe53"
      },
      "execution_count": 19,
      "outputs": [
        {
          "output_type": "execute_result",
          "data": {
            "text/plain": [
              "                                                 text  \\\n",
              "0                                                 NaN   \n",
              "1                                    create integer n   \n",
              "2                                              read n   \n",
              "3      create integers cur, cnt with cur = 1, cnt = 0   \n",
              "4                           create integer vector ans   \n",
              "5                            for i = 0 to n exclusive   \n",
              "6                                    create integer x   \n",
              "7                                              read x   \n",
              "8                                         if x is cur   \n",
              "9                                       increment cnt   \n",
              "10                                      increment cur   \n",
              "11                                               else   \n",
              "12                      add element cnt to end of ans   \n",
              "13                                       set cnt to 1   \n",
              "14                                       set cur to 2   \n",
              "15                                                NaN   \n",
              "16       if i is n - 1, add element cnt to end of ans   \n",
              "17                                                NaN   \n",
              "18     print integer casted size of ans print newline   \n",
              "19  for i = 0 to integer casted size of ans exclusive   \n",
              "\n",
              "                                           code  \n",
              "0                                  int main() {  \n",
              "1                                        int n;  \n",
              "2                                     cin >> n;  \n",
              "3                         int cur = 1, cnt = 0;  \n",
              "4                              vector<int> ans;  \n",
              "5                 for (int i = 0; i < n; i++) {  \n",
              "6                                        int x;  \n",
              "7                                     cin >> x;  \n",
              "8                               if (x == cur) {  \n",
              "9                                        cnt++;  \n",
              "10                                       cur++;  \n",
              "11                                     } else {  \n",
              "12                          ans.push_back(cnt);  \n",
              "13                                     cnt = 1;  \n",
              "14                                     cur = 2;  \n",
              "15                                            }  \n",
              "16      if (i == n - 1) { ans.push_back(cnt); }  \n",
              "17                                            }  \n",
              "18             cout << (int)ans.size() << endl;  \n",
              "19  for (int i = 0; i < (int)ans.size(); i++) {  "
            ],
            "text/html": [
              "\n",
              "  <div id=\"df-57cd8cea-3273-4bd2-91f0-0f385981f69e\" class=\"colab-df-container\">\n",
              "    <div>\n",
              "<style scoped>\n",
              "    .dataframe tbody tr th:only-of-type {\n",
              "        vertical-align: middle;\n",
              "    }\n",
              "\n",
              "    .dataframe tbody tr th {\n",
              "        vertical-align: top;\n",
              "    }\n",
              "\n",
              "    .dataframe thead th {\n",
              "        text-align: right;\n",
              "    }\n",
              "</style>\n",
              "<table border=\"1\" class=\"dataframe\">\n",
              "  <thead>\n",
              "    <tr style=\"text-align: right;\">\n",
              "      <th></th>\n",
              "      <th>text</th>\n",
              "      <th>code</th>\n",
              "    </tr>\n",
              "  </thead>\n",
              "  <tbody>\n",
              "    <tr>\n",
              "      <th>0</th>\n",
              "      <td>NaN</td>\n",
              "      <td>int main() {</td>\n",
              "    </tr>\n",
              "    <tr>\n",
              "      <th>1</th>\n",
              "      <td>create integer n</td>\n",
              "      <td>int n;</td>\n",
              "    </tr>\n",
              "    <tr>\n",
              "      <th>2</th>\n",
              "      <td>read n</td>\n",
              "      <td>cin &gt;&gt; n;</td>\n",
              "    </tr>\n",
              "    <tr>\n",
              "      <th>3</th>\n",
              "      <td>create integers cur, cnt with cur = 1, cnt = 0</td>\n",
              "      <td>int cur = 1, cnt = 0;</td>\n",
              "    </tr>\n",
              "    <tr>\n",
              "      <th>4</th>\n",
              "      <td>create integer vector ans</td>\n",
              "      <td>vector&lt;int&gt; ans;</td>\n",
              "    </tr>\n",
              "    <tr>\n",
              "      <th>5</th>\n",
              "      <td>for i = 0 to n exclusive</td>\n",
              "      <td>for (int i = 0; i &lt; n; i++) {</td>\n",
              "    </tr>\n",
              "    <tr>\n",
              "      <th>6</th>\n",
              "      <td>create integer x</td>\n",
              "      <td>int x;</td>\n",
              "    </tr>\n",
              "    <tr>\n",
              "      <th>7</th>\n",
              "      <td>read x</td>\n",
              "      <td>cin &gt;&gt; x;</td>\n",
              "    </tr>\n",
              "    <tr>\n",
              "      <th>8</th>\n",
              "      <td>if x is cur</td>\n",
              "      <td>if (x == cur) {</td>\n",
              "    </tr>\n",
              "    <tr>\n",
              "      <th>9</th>\n",
              "      <td>increment cnt</td>\n",
              "      <td>cnt++;</td>\n",
              "    </tr>\n",
              "    <tr>\n",
              "      <th>10</th>\n",
              "      <td>increment cur</td>\n",
              "      <td>cur++;</td>\n",
              "    </tr>\n",
              "    <tr>\n",
              "      <th>11</th>\n",
              "      <td>else</td>\n",
              "      <td>} else {</td>\n",
              "    </tr>\n",
              "    <tr>\n",
              "      <th>12</th>\n",
              "      <td>add element cnt to end of ans</td>\n",
              "      <td>ans.push_back(cnt);</td>\n",
              "    </tr>\n",
              "    <tr>\n",
              "      <th>13</th>\n",
              "      <td>set cnt to 1</td>\n",
              "      <td>cnt = 1;</td>\n",
              "    </tr>\n",
              "    <tr>\n",
              "      <th>14</th>\n",
              "      <td>set cur to 2</td>\n",
              "      <td>cur = 2;</td>\n",
              "    </tr>\n",
              "    <tr>\n",
              "      <th>15</th>\n",
              "      <td>NaN</td>\n",
              "      <td>}</td>\n",
              "    </tr>\n",
              "    <tr>\n",
              "      <th>16</th>\n",
              "      <td>if i is n - 1, add element cnt to end of ans</td>\n",
              "      <td>if (i == n - 1) { ans.push_back(cnt); }</td>\n",
              "    </tr>\n",
              "    <tr>\n",
              "      <th>17</th>\n",
              "      <td>NaN</td>\n",
              "      <td>}</td>\n",
              "    </tr>\n",
              "    <tr>\n",
              "      <th>18</th>\n",
              "      <td>print integer casted size of ans print newline</td>\n",
              "      <td>cout &lt;&lt; (int)ans.size() &lt;&lt; endl;</td>\n",
              "    </tr>\n",
              "    <tr>\n",
              "      <th>19</th>\n",
              "      <td>for i = 0 to integer casted size of ans exclusive</td>\n",
              "      <td>for (int i = 0; i &lt; (int)ans.size(); i++) {</td>\n",
              "    </tr>\n",
              "  </tbody>\n",
              "</table>\n",
              "</div>\n",
              "    <div class=\"colab-df-buttons\">\n",
              "\n",
              "  <div class=\"colab-df-container\">\n",
              "    <button class=\"colab-df-convert\" onclick=\"convertToInteractive('df-57cd8cea-3273-4bd2-91f0-0f385981f69e')\"\n",
              "            title=\"Convert this dataframe to an interactive table.\"\n",
              "            style=\"display:none;\">\n",
              "\n",
              "  <svg xmlns=\"http://www.w3.org/2000/svg\" height=\"24px\" viewBox=\"0 -960 960 960\">\n",
              "    <path d=\"M120-120v-720h720v720H120Zm60-500h600v-160H180v160Zm220 220h160v-160H400v160Zm0 220h160v-160H400v160ZM180-400h160v-160H180v160Zm440 0h160v-160H620v160ZM180-180h160v-160H180v160Zm440 0h160v-160H620v160Z\"/>\n",
              "  </svg>\n",
              "    </button>\n",
              "\n",
              "  <style>\n",
              "    .colab-df-container {\n",
              "      display:flex;\n",
              "      gap: 12px;\n",
              "    }\n",
              "\n",
              "    .colab-df-convert {\n",
              "      background-color: #E8F0FE;\n",
              "      border: none;\n",
              "      border-radius: 50%;\n",
              "      cursor: pointer;\n",
              "      display: none;\n",
              "      fill: #1967D2;\n",
              "      height: 32px;\n",
              "      padding: 0 0 0 0;\n",
              "      width: 32px;\n",
              "    }\n",
              "\n",
              "    .colab-df-convert:hover {\n",
              "      background-color: #E2EBFA;\n",
              "      box-shadow: 0px 1px 2px rgba(60, 64, 67, 0.3), 0px 1px 3px 1px rgba(60, 64, 67, 0.15);\n",
              "      fill: #174EA6;\n",
              "    }\n",
              "\n",
              "    .colab-df-buttons div {\n",
              "      margin-bottom: 4px;\n",
              "    }\n",
              "\n",
              "    [theme=dark] .colab-df-convert {\n",
              "      background-color: #3B4455;\n",
              "      fill: #D2E3FC;\n",
              "    }\n",
              "\n",
              "    [theme=dark] .colab-df-convert:hover {\n",
              "      background-color: #434B5C;\n",
              "      box-shadow: 0px 1px 3px 1px rgba(0, 0, 0, 0.15);\n",
              "      filter: drop-shadow(0px 1px 2px rgba(0, 0, 0, 0.3));\n",
              "      fill: #FFFFFF;\n",
              "    }\n",
              "  </style>\n",
              "\n",
              "    <script>\n",
              "      const buttonEl =\n",
              "        document.querySelector('#df-57cd8cea-3273-4bd2-91f0-0f385981f69e button.colab-df-convert');\n",
              "      buttonEl.style.display =\n",
              "        google.colab.kernel.accessAllowed ? 'block' : 'none';\n",
              "\n",
              "      async function convertToInteractive(key) {\n",
              "        const element = document.querySelector('#df-57cd8cea-3273-4bd2-91f0-0f385981f69e');\n",
              "        const dataTable =\n",
              "          await google.colab.kernel.invokeFunction('convertToInteractive',\n",
              "                                                    [key], {});\n",
              "        if (!dataTable) return;\n",
              "\n",
              "        const docLinkHtml = 'Like what you see? Visit the ' +\n",
              "          '<a target=\"_blank\" href=https://colab.research.google.com/notebooks/data_table.ipynb>data table notebook</a>'\n",
              "          + ' to learn more about interactive tables.';\n",
              "        element.innerHTML = '';\n",
              "        dataTable['output_type'] = 'display_data';\n",
              "        await google.colab.output.renderOutput(dataTable, element);\n",
              "        const docLink = document.createElement('div');\n",
              "        docLink.innerHTML = docLinkHtml;\n",
              "        element.appendChild(docLink);\n",
              "      }\n",
              "    </script>\n",
              "  </div>\n",
              "\n",
              "\n",
              "<div id=\"df-f1c9b3e8-331f-4f09-be4a-4faecc303d3a\">\n",
              "  <button class=\"colab-df-quickchart\" onclick=\"quickchart('df-f1c9b3e8-331f-4f09-be4a-4faecc303d3a')\"\n",
              "            title=\"Suggest charts\"\n",
              "            style=\"display:none;\">\n",
              "\n",
              "<svg xmlns=\"http://www.w3.org/2000/svg\" height=\"24px\"viewBox=\"0 0 24 24\"\n",
              "     width=\"24px\">\n",
              "    <g>\n",
              "        <path d=\"M19 3H5c-1.1 0-2 .9-2 2v14c0 1.1.9 2 2 2h14c1.1 0 2-.9 2-2V5c0-1.1-.9-2-2-2zM9 17H7v-7h2v7zm4 0h-2V7h2v10zm4 0h-2v-4h2v4z\"/>\n",
              "    </g>\n",
              "</svg>\n",
              "  </button>\n",
              "\n",
              "<style>\n",
              "  .colab-df-quickchart {\n",
              "      --bg-color: #E8F0FE;\n",
              "      --fill-color: #1967D2;\n",
              "      --hover-bg-color: #E2EBFA;\n",
              "      --hover-fill-color: #174EA6;\n",
              "      --disabled-fill-color: #AAA;\n",
              "      --disabled-bg-color: #DDD;\n",
              "  }\n",
              "\n",
              "  [theme=dark] .colab-df-quickchart {\n",
              "      --bg-color: #3B4455;\n",
              "      --fill-color: #D2E3FC;\n",
              "      --hover-bg-color: #434B5C;\n",
              "      --hover-fill-color: #FFFFFF;\n",
              "      --disabled-bg-color: #3B4455;\n",
              "      --disabled-fill-color: #666;\n",
              "  }\n",
              "\n",
              "  .colab-df-quickchart {\n",
              "    background-color: var(--bg-color);\n",
              "    border: none;\n",
              "    border-radius: 50%;\n",
              "    cursor: pointer;\n",
              "    display: none;\n",
              "    fill: var(--fill-color);\n",
              "    height: 32px;\n",
              "    padding: 0;\n",
              "    width: 32px;\n",
              "  }\n",
              "\n",
              "  .colab-df-quickchart:hover {\n",
              "    background-color: var(--hover-bg-color);\n",
              "    box-shadow: 0 1px 2px rgba(60, 64, 67, 0.3), 0 1px 3px 1px rgba(60, 64, 67, 0.15);\n",
              "    fill: var(--button-hover-fill-color);\n",
              "  }\n",
              "\n",
              "  .colab-df-quickchart-complete:disabled,\n",
              "  .colab-df-quickchart-complete:disabled:hover {\n",
              "    background-color: var(--disabled-bg-color);\n",
              "    fill: var(--disabled-fill-color);\n",
              "    box-shadow: none;\n",
              "  }\n",
              "\n",
              "  .colab-df-spinner {\n",
              "    border: 2px solid var(--fill-color);\n",
              "    border-color: transparent;\n",
              "    border-bottom-color: var(--fill-color);\n",
              "    animation:\n",
              "      spin 1s steps(1) infinite;\n",
              "  }\n",
              "\n",
              "  @keyframes spin {\n",
              "    0% {\n",
              "      border-color: transparent;\n",
              "      border-bottom-color: var(--fill-color);\n",
              "      border-left-color: var(--fill-color);\n",
              "    }\n",
              "    20% {\n",
              "      border-color: transparent;\n",
              "      border-left-color: var(--fill-color);\n",
              "      border-top-color: var(--fill-color);\n",
              "    }\n",
              "    30% {\n",
              "      border-color: transparent;\n",
              "      border-left-color: var(--fill-color);\n",
              "      border-top-color: var(--fill-color);\n",
              "      border-right-color: var(--fill-color);\n",
              "    }\n",
              "    40% {\n",
              "      border-color: transparent;\n",
              "      border-right-color: var(--fill-color);\n",
              "      border-top-color: var(--fill-color);\n",
              "    }\n",
              "    60% {\n",
              "      border-color: transparent;\n",
              "      border-right-color: var(--fill-color);\n",
              "    }\n",
              "    80% {\n",
              "      border-color: transparent;\n",
              "      border-right-color: var(--fill-color);\n",
              "      border-bottom-color: var(--fill-color);\n",
              "    }\n",
              "    90% {\n",
              "      border-color: transparent;\n",
              "      border-bottom-color: var(--fill-color);\n",
              "    }\n",
              "  }\n",
              "</style>\n",
              "\n",
              "  <script>\n",
              "    async function quickchart(key) {\n",
              "      const quickchartButtonEl =\n",
              "        document.querySelector('#' + key + ' button');\n",
              "      quickchartButtonEl.disabled = true;  // To prevent multiple clicks.\n",
              "      quickchartButtonEl.classList.add('colab-df-spinner');\n",
              "      try {\n",
              "        const charts = await google.colab.kernel.invokeFunction(\n",
              "            'suggestCharts', [key], {});\n",
              "      } catch (error) {\n",
              "        console.error('Error during call to suggestCharts:', error);\n",
              "      }\n",
              "      quickchartButtonEl.classList.remove('colab-df-spinner');\n",
              "      quickchartButtonEl.classList.add('colab-df-quickchart-complete');\n",
              "    }\n",
              "    (() => {\n",
              "      let quickchartButtonEl =\n",
              "        document.querySelector('#df-f1c9b3e8-331f-4f09-be4a-4faecc303d3a button');\n",
              "      quickchartButtonEl.style.display =\n",
              "        google.colab.kernel.accessAllowed ? 'block' : 'none';\n",
              "    })();\n",
              "  </script>\n",
              "</div>\n",
              "\n",
              "    </div>\n",
              "  </div>\n"
            ],
            "application/vnd.google.colaboratory.intrinsic+json": {
              "type": "dataframe",
              "variable_name": "first_two_columns_test",
              "summary": "{\n  \"name\": \"first_two_columns_test\",\n  \"rows\": 20480,\n  \"fields\": [\n    {\n      \"column\": \"text\",\n      \"properties\": {\n        \"dtype\": \"string\",\n        \"num_unique_values\": 10757,\n        \"samples\": [\n          \"a[i] = 1\",\n          \"add b to msum\",\n          \"create int n\"\n        ],\n        \"semantic_type\": \"\",\n        \"description\": \"\"\n      }\n    },\n    {\n      \"column\": \"code\",\n      \"properties\": {\n        \"dtype\": \"category\",\n        \"num_unique_values\": 8765,\n        \"samples\": [\n          \"m1++;\",\n          \"cin >> pos;\",\n          \"else if (x > t)\"\n        ],\n        \"semantic_type\": \"\",\n        \"description\": \"\"\n      }\n    }\n  ]\n}"
            }
          },
          "metadata": {},
          "execution_count": 19
        }
      ]
    },
    {
      "cell_type": "code",
      "source": [
        "train_dataset = PrepareDataset(first_two_columns_train, build_vocabs=True)\n",
        "eval_dataset = PrepareDataset(first_two_columns_eval, src_vocab=train_dataset.src_vocab,\n",
        "                                 tgt_vocab=train_dataset.tgt_vocab, build_vocabs=False)\n",
        "test_dataset = PrepareDataset(first_two_columns_test, src_vocab=train_dataset.src_vocab,\n",
        "                                 tgt_vocab=train_dataset.tgt_vocab, build_vocabs=False)"
      ],
      "metadata": {
        "id": "2cHJJ6t3gyRf"
      },
      "execution_count": 8,
      "outputs": []
    },
    {
      "cell_type": "code",
      "execution_count": 9,
      "metadata": {
        "id": "JF43T4-gIDJh"
      },
      "outputs": [],
      "source": [
        "BATCH_SIZE = 32\n",
        "train_loader = DataLoader(train_dataset, batch_size=BATCH_SIZE, shuffle=True, collate_fn=collate_fn)\n",
        "eval_loader = DataLoader(eval_dataset, batch_size=BATCH_SIZE, shuffle=False, collate_fn=collate_fn)\n",
        "\n",
        "# ----- Training Functions -----\n",
        "def train_epoch(model, dataloader, criterion, optimizer, device):\n",
        "    model.train()\n",
        "    total_loss = 0\n",
        "    progress_bar = tqdm(dataloader, desc=\"Training\", leave=False)\n",
        "    for src_batch, tgt_batch in progress_bar:\n",
        "        src_batch, tgt_batch = src_batch.to(device), tgt_batch.to(device)\n",
        "        optimizer.zero_grad()\n",
        "        tgt_input = tgt_batch[:, :-1]\n",
        "        tgt_expected = tgt_batch[:, 1:]\n",
        "        output = model(src_batch, tgt_input)\n",
        "        output = output.reshape(-1, output.size(-1))\n",
        "        tgt_expected = tgt_expected.reshape(-1)\n",
        "        loss = criterion(output, tgt_expected)\n",
        "        loss.backward()\n",
        "        optimizer.step()\n",
        "        total_loss += loss.item()\n",
        "        progress_bar.set_postfix(loss=loss.item())\n",
        "    return total_loss / len(dataloader)\n",
        "\n",
        "def evaluate(model, dataloader, criterion, device):\n",
        "    model.eval()\n",
        "    total_loss = 0\n",
        "    with torch.no_grad():\n",
        "        progress_bar = tqdm(dataloader, desc=\"Evaluating\", leave=False)\n",
        "        for src_batch, tgt_batch in progress_bar:\n",
        "            src_batch, tgt_batch = src_batch.to(device), tgt_batch.to(device)\n",
        "            tgt_input = tgt_batch[:, :-1]\n",
        "            tgt_expected = tgt_batch[:, 1:]\n",
        "            output = model(src_batch, tgt_input)\n",
        "            output = output.reshape(-1, output.size(-1))\n",
        "            tgt_expected = tgt_expected.reshape(-1)\n",
        "            loss = criterion(output, tgt_expected)\n",
        "            total_loss += loss.item()\n",
        "            progress_bar.set_postfix(loss=loss.item())\n",
        "    return total_loss / len(dataloader)\n",
        "\n"
      ]
    },
    {
      "cell_type": "code",
      "source": [
        "def generate_output(model, src_sentence, src_vocab, tgt_vocab, device, max_len=50):\n",
        "    model.eval()\n",
        "    tokens = simple_tokenizer(src_sentence)\n",
        "    src_indices = numericalize(tokens, src_vocab)\n",
        "    src_tensor = torch.tensor(src_indices, dtype=torch.long).unsqueeze(0).to(device)\n",
        "    tgt_indices = [tgt_vocab[SOS_TOKEN]]\n",
        "    for _ in range(max_len):\n",
        "        tgt_tensor = torch.tensor(tgt_indices, dtype=torch.long).unsqueeze(0).to(device)\n",
        "        with torch.no_grad():\n",
        "            output = model(src_tensor, tgt_tensor)\n",
        "        next_token = torch.argmax(output[0, -1, :]).item()\n",
        "        tgt_indices.append(next_token)\n",
        "        if next_token == tgt_vocab[EOS_TOKEN]:\n",
        "            break\n",
        "    inv_tgt_vocab = {v: k for k, v in tgt_vocab.items()}\n",
        "    generated_tokens = [inv_tgt_vocab[idx] for idx in tgt_indices if idx not in (tgt_vocab[SOS_TOKEN], tgt_vocab[EOS_TOKEN])]\n",
        "    return \" \".join(generated_tokens)"
      ],
      "metadata": {
        "id": "3qHFZfGaIU3b"
      },
      "execution_count": 10,
      "outputs": []
    },
    {
      "cell_type": "code",
      "source": [
        "# ----- Training Loop -----\n",
        "DEVICE = torch.device(\"cuda\" if torch.cuda.is_available() else \"cpu\")\n",
        "model = Transformer(src_vocab_size=len(train_dataset.src_vocab),\n",
        "                               tgt_vocab_size=len(train_dataset.tgt_vocab)).to(DEVICE)\n",
        "criterion = nn.CrossEntropyLoss(ignore_index=train_dataset.src_vocab[PAD_TOKEN])\n",
        "optimizer = optim.Adam(model.parameters(), lr=1e-4)\n",
        "NUM_EPOCHS = 4\n"
      ],
      "metadata": {
        "colab": {
          "base_uri": "https://localhost:8080/"
        },
        "id": "q7aDJ5PDLIdx",
        "outputId": "721340a6-45c6-4369-89fc-388f0aa1d668"
      },
      "execution_count": 11,
      "outputs": [
        {
          "output_type": "stream",
          "name": "stderr",
          "text": [
            "/usr/local/lib/python3.11/dist-packages/torch/nn/modules/transformer.py:379: UserWarning: enable_nested_tensor is True, but self.use_nested_tensor is False because encoder_layer.self_attn.batch_first was not True(use batch_first for better inference performance)\n",
            "  warnings.warn(\n"
          ]
        }
      ]
    },
    {
      "cell_type": "code",
      "source": [
        "for epoch in range(1, NUM_EPOCHS+1):\n",
        "    print(f\"\\nEpoch {epoch}\")\n",
        "    train_loss = train_epoch(model, train_loader, criterion, optimizer, DEVICE)\n",
        "    eval_loss = evaluate(model, eval_loader, criterion, DEVICE)\n",
        "    print(f\"Epoch {epoch}: Train Loss = {train_loss:.4f}, Eval Loss = {eval_loss:.4f}\")\n",
        "\n",
        "\n",
        "torch.save(model.state_dict(), \"transformer_psuedo.pth\")\n",
        "print(\"Model checkpoint saved as transformer_psuedo.pth\")"
      ],
      "metadata": {
        "colab": {
          "base_uri": "https://localhost:8080/"
        },
        "id": "nfnWTlP7LK4u",
        "outputId": "5d27906d-b18d-499c-ad5d-9efdb29bfcb2"
      },
      "execution_count": 12,
      "outputs": [
        {
          "output_type": "stream",
          "name": "stdout",
          "text": [
            "\n",
            "Epoch 1\n"
          ]
        },
        {
          "output_type": "stream",
          "name": "stderr",
          "text": []
        },
        {
          "output_type": "stream",
          "name": "stdout",
          "text": [
            "Epoch 1: Train Loss = 1.7857, Eval Loss = 1.1841\n",
            "\n",
            "Epoch 2\n"
          ]
        },
        {
          "output_type": "stream",
          "name": "stderr",
          "text": []
        },
        {
          "output_type": "stream",
          "name": "stdout",
          "text": [
            "Epoch 2: Train Loss = 1.1388, Eval Loss = 0.9986\n",
            "\n",
            "Epoch 3\n"
          ]
        },
        {
          "output_type": "stream",
          "name": "stderr",
          "text": []
        },
        {
          "output_type": "stream",
          "name": "stdout",
          "text": [
            "Epoch 3: Train Loss = 0.9179, Eval Loss = 0.9565\n",
            "\n",
            "Epoch 4\n"
          ]
        },
        {
          "output_type": "stream",
          "name": "stderr",
          "text": []
        },
        {
          "output_type": "stream",
          "name": "stdout",
          "text": [
            "Epoch 4: Train Loss = 0.7826, Eval Loss = 0.9152\n",
            "Model checkpoint saved as transformer_psuedo.pth\n"
          ]
        }
      ]
    },
    {
      "cell_type": "code",
      "source": [
        "# Define device\n",
        "device = torch.device(\"cuda\" if torch.cuda.is_available() else \"cpu\")\n",
        "\n",
        "# Instantiate the model (assuming train_dataset is already defined)\n",
        "model = Transformer(\n",
        "    src_vocab_size=len(train_dataset.src_vocab),\n",
        "    tgt_vocab_size=len(train_dataset.tgt_vocab)\n",
        ").to(device)\n",
        "\n",
        "model.load_state_dict(torch.load(\"transformer_psuedo.pth\", map_location=device))\n",
        "model.eval()\n",
        "\n",
        "\n",
        "sample_code = \"create integers cur, cnt with cur = 1, cnt = 0\"\n",
        "generated_pseudo = generate_output(model, sample_code, train_dataset.src_vocab, train_dataset.tgt_vocab, device)\n",
        "print(\"\\nSample PsuedoCode:\")\n",
        "print(sample_code)\n",
        "print(\"\\nGenerated C++ Code:\")\n",
        "print(generated_pseudo)"
      ],
      "metadata": {
        "id": "HU8OyVh6LOoN",
        "colab": {
          "base_uri": "https://localhost:8080/"
        },
        "outputId": "b9ffb9c9-a860-4f16-f11c-4df2daed5711"
      },
      "execution_count": 15,
      "outputs": [
        {
          "output_type": "stream",
          "name": "stderr",
          "text": [
            "<ipython-input-15-4e06ebe99d67>:10: FutureWarning: You are using `torch.load` with `weights_only=False` (the current default value), which uses the default pickle module implicitly. It is possible to construct malicious pickle data which will execute arbitrary code during unpickling (See https://github.com/pytorch/pytorch/blob/main/SECURITY.md#untrusted-models for more details). In a future release, the default value for `weights_only` will be flipped to `True`. This limits the functions that could be executed during unpickling. Arbitrary objects will no longer be allowed to be loaded via this mode unless they are explicitly allowlisted by the user via `torch.serialization.add_safe_globals`. We recommend you start setting `weights_only=True` for any use case where you don't have full control of the loaded file. Please open an issue on GitHub for any issues related to this experimental feature.\n",
            "  model.load_state_dict(torch.load(\"transformer_psuedo.pth\", map_location=device))\n"
          ]
        },
        {
          "output_type": "stream",
          "name": "stdout",
          "text": [
            "\n",
            "Sample PsuedoCode:\n",
            "create integers cur, cnt with cur = 1, cnt = 0\n",
            "\n",
            "Generated C++ Code:\n",
            "int cur = 1, cur = 0;\n"
          ]
        }
      ]
    },
    {
      "cell_type": "code",
      "source": [
        "pip install gradio"
      ],
      "metadata": {
        "id": "oRwAJMOGmZQJ"
      },
      "execution_count": null,
      "outputs": []
    },
    {
      "cell_type": "code",
      "source": [
        "import gradio as gr\n",
        "import torch\n",
        "\n",
        "# Load model\n",
        "device = torch.device(\"cuda\" if torch.cuda.is_available() else \"cpu\")\n",
        "\n",
        "# Instantiate the model (assuming train_dataset is already defined)\n",
        "model = Transformer(\n",
        "    src_vocab_size=len(train_dataset.src_vocab),\n",
        "    tgt_vocab_size=len(train_dataset.tgt_vocab)\n",
        ").to(device)\n",
        "\n",
        "# Load model checkpoint and set to evaluation mode\n",
        "model.load_state_dict(torch.load(\"transformer_psuedo.pth\", map_location=device))\n",
        "model.eval()\n",
        "\n",
        "# Define inference function\n",
        "def generate_pseudocode(PsuedoCode):\n",
        "    generated_pseudo = generate_output(model, PsuedoCode, train_dataset.src_vocab, train_dataset.tgt_vocab, device)\n",
        "    return generated_pseudo\n",
        "\n",
        "# Gradio UI\n",
        "demo = gr.Interface(\n",
        "    fn=generate_pseudocode,\n",
        "    inputs=gr.Textbox(lines=5, placeholder=\"Enter Psuedocode here...\"),\n",
        "    outputs=gr.Textbox(label=\"Generated C++ Code\"),\n",
        "    title=\"PsuedoCode to C++ Code Generator\",\n",
        "    description=\"Enter Psuedoode, and the model will generate C++ Code.\"\n",
        ")\n",
        "\n",
        "demo.launch()\n"
      ],
      "metadata": {
        "colab": {
          "base_uri": "https://localhost:8080/",
          "height": 715
        },
        "id": "bRmpfCwlmWvr",
        "outputId": "28cbdfe2-b4ae-4030-f37a-9070e1cc94e0"
      },
      "execution_count": 20,
      "outputs": [
        {
          "output_type": "stream",
          "name": "stderr",
          "text": [
            "/usr/local/lib/python3.11/dist-packages/torch/nn/modules/transformer.py:379: UserWarning: enable_nested_tensor is True, but self.use_nested_tensor is False because encoder_layer.self_attn.batch_first was not True(use batch_first for better inference performance)\n",
            "  warnings.warn(\n",
            "<ipython-input-20-18091b3b37ad>:14: FutureWarning: You are using `torch.load` with `weights_only=False` (the current default value), which uses the default pickle module implicitly. It is possible to construct malicious pickle data which will execute arbitrary code during unpickling (See https://github.com/pytorch/pytorch/blob/main/SECURITY.md#untrusted-models for more details). In a future release, the default value for `weights_only` will be flipped to `True`. This limits the functions that could be executed during unpickling. Arbitrary objects will no longer be allowed to be loaded via this mode unless they are explicitly allowlisted by the user via `torch.serialization.add_safe_globals`. We recommend you start setting `weights_only=True` for any use case where you don't have full control of the loaded file. Please open an issue on GitHub for any issues related to this experimental feature.\n",
            "  model.load_state_dict(torch.load(\"transformer_psuedo.pth\", map_location=device))\n"
          ]
        },
        {
          "output_type": "stream",
          "name": "stdout",
          "text": [
            "Running Gradio in a Colab notebook requires sharing enabled. Automatically setting `share=True` (you can turn this off by setting `share=False` in `launch()` explicitly).\n",
            "\n",
            "Colab notebook detected. To show errors in colab notebook, set debug=True in launch()\n",
            "* Running on public URL: https://8b465f617e59c543d3.gradio.live\n",
            "\n",
            "This share link expires in 72 hours. For free permanent hosting and GPU upgrades, run `gradio deploy` from the terminal in the working directory to deploy to Hugging Face Spaces (https://huggingface.co/spaces)\n"
          ]
        },
        {
          "output_type": "display_data",
          "data": {
            "text/plain": [
              "<IPython.core.display.HTML object>"
            ],
            "text/html": [
              "<div><iframe src=\"https://8b465f617e59c543d3.gradio.live\" width=\"100%\" height=\"500\" allow=\"autoplay; camera; microphone; clipboard-read; clipboard-write;\" frameborder=\"0\" allowfullscreen></iframe></div>"
            ]
          },
          "metadata": {}
        },
        {
          "output_type": "execute_result",
          "data": {
            "text/plain": []
          },
          "metadata": {},
          "execution_count": 20
        }
      ]
    },
    {
      "cell_type": "code",
      "source": [],
      "metadata": {
        "id": "fNtgTIuhRcI0"
      },
      "execution_count": null,
      "outputs": []
    }
  ]
}